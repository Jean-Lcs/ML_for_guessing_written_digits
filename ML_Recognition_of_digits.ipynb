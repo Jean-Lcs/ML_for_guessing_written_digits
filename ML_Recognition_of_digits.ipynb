{
 "cells": [
  {
   "cell_type": "code",
   "execution_count": 1,
   "id": "149938de",
   "metadata": {},
   "outputs": [],
   "source": [
    "import numpy as np\n",
    "import tensorflow as tf\n",
    "from tensorflow import keras\n",
    "from tensorflow.keras import layers\n",
    "import matplotlib.pyplot as plt\n",
    "from tqdm import tqdm"
   ]
  },
  {
   "cell_type": "code",
   "execution_count": 2,
   "id": "773c1396",
   "metadata": {},
   "outputs": [
    {
     "name": "stdout",
     "output_type": "stream",
     "text": [
      "example of a number and it's representation:\n",
      "5\n"
     ]
    },
    {
     "data": {
      "image/png": "[encoded data removed]",
      "text/plain": [
       "<Figure size 432x288 with 1 Axes>"
      ]
     },
     "metadata": {
      "needs_background": "light"
     },
     "output_type": "display_data"
    }
   ],
   "source": [
    "train_data, test_data = tf.keras.datasets.mnist.load_data(path=\"mnist.npz\")\n",
    "x_train = train_data[0].reshape(-1,784).astype(float) / 255\n",
    "y_train = train_data[1]\n",
    "number = 11\n",
    "plt.imshow(train_data[0][number], cmap='gray')\n",
    "print('example of a number and it\\'s representation:')\n",
    "print(y_train[number])\n",
    "plt.show()"
   ]
  },
  {
   "cell_type": "code",
   "execution_count": 3,
   "id": "4b521b78",
   "metadata": {},
   "outputs": [
    {
     "name": "stdout",
     "output_type": "stream",
     "text": [
      "Model: \"mnist_model\"\n",
      "_________________________________________________________________\n",
      "Layer (type)                 Output Shape              Param #   \n",
      "=================================================================\n",
      "digits (InputLayer)          [(None, 784)]             0         \n",
      "_________________________________________________________________\n",
      "dense_1 (Dense)              (None, 32)                25120     \n",
      "_________________________________________________________________\n",
      "dense_2 (Dense)              (None, 32)                1056      \n",
      "_________________________________________________________________\n",
      "predictions (Dense)          (None, 10)                330       \n",
      "=================================================================\n",
      "Total params: 26,506\n",
      "Trainable params: 26,506\n",
      "Non-trainable params: 0\n",
      "_________________________________________________________________\n"
     ]
    },
    {
     "name": "stderr",
     "output_type": "stream",
     "text": [
      "2022-02-11 14:31:12.770579: I tensorflow/core/platform/cpu_feature_guard.cc:145] This TensorFlow binary is optimized with Intel(R) MKL-DNN to use the following CPU instructions in performance critical operations:  SSE4.1 SSE4.2\n",
      "To enable them in non-MKL-DNN operations, rebuild TensorFlow with the appropriate compiler flags.\n",
      "2022-02-11 14:31:12.771504: I tensorflow/core/common_runtime/process_util.cc:115] Creating new thread pool with default inter op setting: 8. Tune using inter_op_parallelism_threads for best performance.\n"
     ]
    }
   ],
   "source": [
    "inputs = keras.Input(shape=(784,), name=\"digits\")\n",
    "x = layers.Dense(32, activation=\"relu\", name=\"dense_1\")(inputs)\n",
    "x = layers.Dense(32, activation=\"relu\", name=\"dense_2\")(x)\n",
    "outputs = layers.Dense(10, activation=\"softmax\", name=\"predictions\")(x)\n",
    "model = keras.Model(inputs=inputs, outputs=outputs, name=\"mnist_model\")\n",
    "loss = keras.losses.SparseCategoricalCrossentropy(from_logits=True)\n",
    "def loss1(true, pred):\n",
    "    val = 0.\n",
    "    for i in range(len(true)):\n",
    "        delta = pred[i, true[i]]\n",
    "        val -= np.log(delta)\n",
    "    return val / len(true)\n",
    "model.summary()"
   ]
  },
  {
   "cell_type": "code",
   "execution_count": 4,
   "id": "b18b6bdb",
   "metadata": {},
   "outputs": [
    {
     "name": "stdout",
     "output_type": "stream",
     "text": [
      "WARNING:tensorflow:Layer dense_1 is casting an input tensor from dtype float64 to the layer's dtype of float32, which is new behavior in TensorFlow 2.  The layer has dtype float32 because it's dtype defaults to floatx.\n",
      "\n",
      "If you intended to run this layer in float32, you can safely ignore this warning. If in doubt, this warning is likely only an issue if you are porting a TensorFlow 1.X model to TensorFlow 2.\n",
      "\n",
      "To change all layers to have dtype float64 by default, call `tf.keras.backend.set_floatx('float64')`. To change just this layer, pass dtype='float64' to the layer constructor. If you are the author of this layer, you can disable autocasting by passing autocast=False to the base Layer constructor.\n",
      "\n"
     ]
    },
    {
     "data": {
      "text/plain": [
       "array([2, 3, 2, 2, 2, 2, 2, 2, 2, 4, 2, 2, 2, 2, 2, 2, 2, 2, 4, 2, 3, 2,\n",
       "       2, 2, 3, 2, 2, 2, 2, 2, 2, 2, 2, 2, 4, 2, 2, 2, 2, 2, 2, 4, 2, 2,\n",
       "       2, 2, 2, 2, 3, 2, 2, 3, 2, 2, 2, 2, 3, 3, 3, 2, 3, 2, 4, 2, 3, 2,\n",
       "       2, 2, 2, 2, 2, 2, 3, 2, 0, 2, 2, 2, 2, 2, 2, 2, 2, 3, 2, 2, 2, 2,\n",
       "       9, 2, 4, 2, 2, 2, 2, 2, 2, 2, 2, 2])"
      ]
     },
     "execution_count": 4,
     "metadata": {},
     "output_type": "execute_result"
    }
   ],
   "source": [
    "# untrained model\n",
    "logits = model(x_train, training=True)\n",
    "np.argmax(logits, 1)[0:100]"
   ]
  },
  {
   "cell_type": "code",
   "execution_count": 5,
   "id": "35d74f67",
   "metadata": {},
   "outputs": [
    {
     "data": {
      "text/plain": [
       "array([7, 2, 1, 0, 4, 1, 4, 9, 5, 9, 0, 6, 9, 0, 1, 5, 9, 7, 3, 4, 9, 6,\n",
       "       6, 5, 4, 0, 7, 4, 0, 1, 3, 1, 3, 4, 7, 2, 7, 1, 2, 1, 1, 7, 4, 2,\n",
       "       3, 5, 1, 2, 4, 4, 6, 3, 5, 5, 6, 0, 4, 1, 9, 5, 7, 8, 9, 3, 7, 4,\n",
       "       6, 4, 3, 0, 7, 0, 2, 9, 1, 7, 3, 2, 9, 7, 7, 6, 2, 7, 8, 4, 7, 3,\n",
       "       6, 1, 3, 6, 9, 3, 1, 4, 1, 7, 6, 9], dtype=uint8)"
      ]
     },
     "execution_count": 5,
     "metadata": {},
     "output_type": "execute_result"
    }
   ],
   "source": [
    "# what we would like to get\n",
    "test_data[1][0:100]"
   ]
  },
  {
   "cell_type": "markdown",
   "id": "1267747f",
   "metadata": {},
   "source": [
    "# Training:"
   ]
  },
  {
   "cell_type": "markdown",
   "id": "87ae5d96",
   "metadata": {},
   "source": [
    "### Number of optimization variables"
   ]
  },
  {
   "cell_type": "code",
   "execution_count": 6,
   "id": "189a7b47",
   "metadata": {},
   "outputs": [
    {
     "name": "stdout",
     "output_type": "stream",
     "text": [
      "We are going to use (784+1) * 32 + (32+1) *32 + (32+1) *10 = 26506  optimization variables \n",
      "We take the value 'x+1' everytime in order to take into account the bias\n"
     ]
    }
   ],
   "source": [
    "print('We are going to use (784+1) * 32 + (32+1) *32 + (32+1) *10 =',(784+1)*32+(32+1)*32+(32+1)*10,' optimization variables ')\n",
    "print('We take the value \\'x+1\\' everytime in order to take into account the bias')"
   ]
  },
  {
   "cell_type": "markdown",
   "id": "1d784293",
   "metadata": {},
   "source": [
    "## Stochastic gradient descent"
   ]
  },
  {
   "cell_type": "code",
   "execution_count": 7,
   "id": "1ba54737",
   "metadata": {},
   "outputs": [
    {
     "name": "stdout",
     "output_type": "stream",
     "text": [
      "0.011547005383792516\n"
     ]
    },
    {
     "name": "stderr",
     "output_type": "stream",
     "text": [
      "100%|███████████████████████████████████████| 7500/7500 [07:21<00:00, 16.98it/s]\n"
     ]
    },
    {
     "name": "stdout",
     "output_type": "stream",
     "text": [
      "number of loop: 1 / 5\n"
     ]
    },
    {
     "name": "stderr",
     "output_type": "stream",
     "text": [
      "100%|███████████████████████████████████████| 7500/7500 [05:45<00:00, 21.68it/s]\n"
     ]
    },
    {
     "name": "stdout",
     "output_type": "stream",
     "text": [
      "number of loop: 2 / 5\n"
     ]
    },
    {
     "name": "stderr",
     "output_type": "stream",
     "text": [
      "100%|███████████████████████████████████████| 7500/7500 [05:54<00:00, 21.13it/s]\n"
     ]
    },
    {
     "name": "stdout",
     "output_type": "stream",
     "text": [
      "number of loop: 3 / 5\n"
     ]
    },
    {
     "name": "stderr",
     "output_type": "stream",
     "text": [
      "100%|███████████████████████████████████████| 7500/7500 [07:17<00:00, 17.12it/s]\n"
     ]
    },
    {
     "name": "stdout",
     "output_type": "stream",
     "text": [
      "number of loop: 4 / 5\n"
     ]
    },
    {
     "name": "stderr",
     "output_type": "stream",
     "text": [
      "100%|███████████████████████████████████████| 7500/7500 [06:00<00:00, 20.81it/s]"
     ]
    },
    {
     "name": "stdout",
     "output_type": "stream",
     "text": [
      "number of loop: 5 / 5\n"
     ]
    },
    {
     "name": "stderr",
     "output_type": "stream",
     "text": [
      "\n"
     ]
    }
   ],
   "source": [
    "number = len(x_train)//8\n",
    "step = 1/np.sqrt(number)\n",
    "print(step)\n",
    "losss = []\n",
    "\n",
    "def update_weights(model, update, alpha):\n",
    "    new_weights = model.trainable_weights.copy()\n",
    "    for i in range(len(new_weights)):\n",
    "        new_weights[i] = new_weights[i] -alpha * update[i]\n",
    "    model.set_weights(new_weights)\n",
    "\n",
    "number_of_loop = 5\n",
    "for inde in range(number_of_loop):\n",
    "    for k in tqdm(range(number)):\n",
    "        x_train_batch = x_train[k*8:k*8+8]\n",
    "        y_train_batch = y_train[k*8:k*8+8]\n",
    "        with tf.GradientTape() as tape:\n",
    "                # Run the forward pass of the layer.\n",
    "                # The operations that the layer applies\n",
    "                # to its inputs are going to be recorded\n",
    "                # on the GradientTape.\n",
    "                logits = model(x_train_batch)  # Logits for this minibatch\n",
    "\n",
    "                # Compute the loss value for this minibatch.\n",
    "                loss_value = loss(y_train_batch, logits)\n",
    "\n",
    "        # Use the gradient tape to automatically retrieve\n",
    "        # the gradients of the trainable variables with respect to the loss.\n",
    "        grad = tape.gradient(loss_value, model.trainable_weights)\n",
    "\n",
    "        def update_weights(model, update, alpha):\n",
    "            new_weights = model.trainable_weights.copy()\n",
    "            for i in range(len(new_weights)):\n",
    "                new_weights[i] = new_weights[i] -alpha * update[i]\n",
    "            model.set_weights(new_weights)\n",
    "\n",
    "        update_weights(model,grad,step)\n",
    "\n",
    "        ## Evaluate model\n",
    "        samples_for_evaluation = np.random.randint(0, 10000, 1000)\n",
    "        logits = model(x_train[samples_for_evaluation])\n",
    "        losss.append(loss(y_train[samples_for_evaluation], logits).numpy())\n",
    "    print('number of loop:',inde+1,'/',number_of_loop)\n",
    "\n"
   ]
  },
  {
   "cell_type": "markdown",
   "id": "97433e62",
   "metadata": {},
   "source": [
    "### Loss visualisation"
   ]
  },
  {
   "cell_type": "code",
   "execution_count": 8,
   "id": "b8af3d38",
   "metadata": {
    "scrolled": true
   },
   "outputs": [
    {
     "data": {
      "image/png": "[encoded data removed]",
      "text/plain": [
       "<Figure size 1440x792 with 1 Axes>"
      ]
     },
     "metadata": {
      "needs_background": "light"
     },
     "output_type": "display_data"
    },
    {
     "name": "stdout",
     "output_type": "stream",
     "text": [
      "The average loss over 8 items is about: 1.6153417 at the end of the training.\n"
     ]
    }
   ],
   "source": [
    "wide = 200\n",
    "loss_smmooth = [np.mean( np.asarray(losss[k:k+wide])) for k in range (len(losss)-wide)]\n",
    "plt.figure(1,figsize=(20,11))\n",
    "plt.plot(np.arange(len(loss_smmooth)),loss_smmooth)\n",
    "plt.grid()\n",
    "plt.title('evolution of loss function over iterations')\n",
    "plt.xlabel('number of iterations')\n",
    "plt.ylabel('loss over each epoc')\n",
    "plt.show()\n",
    "print('The average loss over 8 items is about:',np.mean(np.asarray(loss_smmooth[-4:-1])),'at the end of the training.')"
   ]
  },
  {
   "cell_type": "markdown",
   "id": "d79f16a4",
   "metadata": {},
   "source": [
    "## Evaluation of the model"
   ]
  },
  {
   "cell_type": "code",
   "execution_count": 9,
   "id": "b5b53907",
   "metadata": {},
   "outputs": [
    {
     "name": "stderr",
     "output_type": "stream",
     "text": [
      "100%|█████████████████████████████████| 10000/10000 [00:00<00:00, 150457.51it/s]\n"
     ]
    }
   ],
   "source": [
    "predi = []\n",
    "data = (model.predict(test_data[0].reshape(-1,784).astype(float) / 255)*10).astype('int')\n",
    "for i in tqdm(range(len(test_data[0].reshape(-1,784)))):\n",
    "    L = data[i]\n",
    "    predi.append(np.where( L == np.max(L))[0][0])"
   ]
  },
  {
   "cell_type": "code",
   "execution_count": 10,
   "id": "4cde06cb",
   "metadata": {},
   "outputs": [
    {
     "name": "stdout",
     "output_type": "stream",
     "text": [
      "Counter({0: 8437, 3: 443, -1: 275, 5: 148, 2: 119, -2: 110, 7: 74, 1: 69, -5: 67, 4: 58, 6: 55, -4: 46, 8: 29, -6: 28, -3: 15, 9: 14, -7: 13})\n"
     ]
    },
    {
     "data": {
      "text/plain": [
       "0.8437"
      ]
     },
     "execution_count": 10,
     "metadata": {},
     "output_type": "execute_result"
    }
   ],
   "source": [
    "from collections import Counter\n",
    "print(Counter(test_data[1]-predi))\n",
    "rate = list(Counter(test_data[1]-predi).values())[0]/len(predi)\n",
    "rate"
   ]
  },
  {
   "cell_type": "code",
   "execution_count": 11,
   "id": "3162f04e",
   "metadata": {},
   "outputs": [
    {
     "data": {
      "image/png": "[encoded data removed]",
      "text/plain": [
       "<Figure size 432x288 with 1 Axes>"
      ]
     },
     "metadata": {},
     "output_type": "display_data"
    }
   ],
   "source": [
    "labels = 'Good prediction','Bad prediction'\n",
    "sizes = [rate*100,(1-rate)*100]\n",
    "explode = (0, 0.1)  # only \"explode\" the 2nd slice (i.e. 'Hogs')\n",
    "\n",
    "\n",
    "fig1, ax1 = plt.subplots()\n",
    "ax1.pie(sizes, explode=explode, labels=labels, autopct='%1.1f%%',\n",
    "        shadow=True, startangle=90,radius=1)\n",
    "ax1.axis('equal')  # Equal aspect ratio ensures that pie is drawn as a circle.\n",
    "\n",
    "plt.show()"
   ]
  }
 ],
 "metadata": {
  "kernelspec": {
   "display_name": "Python 3 (ipykernel)",
   "language": "python",
   "name": "python3"
  },
  "language_info": {
   "codemirror_mode": {
    "name": "ipython",
    "version": 3
   },
   "file_extension": ".py",
   "mimetype": "text/x-python",
   "name": "python",
   "nbconvert_exporter": "python",
   "pygments_lexer": "ipython3",
   "version": "3.7.11"
  }
 },
 "nbformat": 4,
 "nbformat_minor": 5
}
